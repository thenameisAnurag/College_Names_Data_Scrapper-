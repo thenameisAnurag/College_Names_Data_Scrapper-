{
 "cells": [
  {
   "cell_type": "code",
   "execution_count": null,
   "metadata": {},
   "outputs": [],
   "source": [
    "import requests\n",
    "from bs4 import BeautifulSoup"
   ]
  },
  {
   "cell_type": "code",
   "execution_count": null,
   "metadata": {},
   "outputs": [],
   "source": [
    "def get_data_hansraj(url):\n",
    "    page = requests.get(url, verify=False)\n",
    "    soup = BeautifulSoup(page.content, \"html.parser\")\n",
    "    college_name = soup.find('h1').get_text(strip=True)\n",
    "    courses = soup.find_all('a', class_=\"collapse-title\")\n",
    "    if not courses:\n",
    "        print(\"No course names found for Hansraj College.\")\n",
    "    data = [{\"College Name\": college_name, \"Course\": tag.get_text(strip=True)} for tag in courses]\n",
    "    return data"
   ]
  },
  {
   "cell_type": "code",
   "execution_count": null,
   "metadata": {},
   "outputs": [],
   "source": [
    "def get_data_aryabhatt(url):\n",
    "    page = requests.get(url, verify=False)\n",
    "    soup = BeautifulSoup(page.content, \"html.parser\")\n",
    "    rows = soup.find_all('tr')\n",
    "    data = [{\"College Name\": \"Aryabhatt College\", \"Course\": cells[1].get_text(strip=True)} for row in rows if len(cells := row.find_all('td')) > 1]\n",
    "    return data\n"
   ]
  },
  {
   "cell_type": "code",
   "execution_count": null,
   "metadata": {},
   "outputs": [],
   "source": [
    "\n",
    "\n",
    "def user_input():\n",
    "    college_url_dict = {\n",
    "        \"Hansraj College\": \"https://www.hansrajcollege.ac.in/academics/ugcourses\",\n",
    "        \"Arryabhatta College\": \"https://aryabhattacollege.ac.in/ourcourses.aspx\"\n",
    "    }\n",
    "    input_value = input(\"Enter the College Name or URL: \")\n",
    "    data_dict = {}\n",
    "\n",
    "    if input_value.startswith(\"http\"):\n",
    "        url = input_value\n",
    "        if \"hansrajcollege\" in url:\n",
    "            data_dict[\"Hansraj College\"] = get_data_hansraj(url)\n",
    "        elif \"aryabhattacollege\" in url:\n",
    "            data_dict[\"Aryabhatta College\"] = get_data_aryabhatt(url)\n",
    "        else:\n",
    "            print(\"Unsupported URL\")\n",
    "            return\n",
    "    else:\n",
    "        if input_value in college_url_dict:\n",
    "            url = college_url_dict[input_value]\n",
    "            if \"hansrajcollege\" in url:\n",
    "                data_dict[\"Hansraj College\"] = get_data_hansraj(url)\n",
    "            elif \"aryabhattacollege\" in url:\n",
    "                data_dict[\"Aryabhatta College\"] = get_data_aryabhatt(url)\n",
    "        else:\n",
    "            print(\"College name not found.\")\n",
    "            return\n",
    "\n",
    "    if data_dict:\n",
    "        for college, data in data_dict.items():\n",
    "            print(f\"Courses for {college}:\\n\", [course['Course'] for course in data])\n",
    "\n",
    "user_input()\n"
   ]
  }
 ],
 "metadata": {
  "language_info": {
   "name": "python"
  }
 },
 "nbformat": 4,
 "nbformat_minor": 2
}
